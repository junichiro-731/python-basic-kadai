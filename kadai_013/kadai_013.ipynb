{
  "nbformat": 4,
  "nbformat_minor": 0,
  "metadata": {
    "colab": {
      "provenance": []
    },
    "kernelspec": {
      "name": "python3",
      "display_name": "Python 3"
    },
    "language_info": {
      "name": "python"
    }
  },
  "cells": [
    {
      "cell_type": "code",
      "execution_count": null,
      "metadata": {
        "colab": {
          "base_uri": "https://localhost:8080/"
        },
        "id": "Qmv145AnD5sj",
        "outputId": "41193b22-daa4-41fb-fba3-8cd736f3a4fc"
      },
      "outputs": [
        {
          "output_type": "stream",
          "name": "stdout",
          "text": [
            "10%消費税込みで1100.0円です\n"
          ]
        }
      ],
      "source": [
        "def calc_price(price,tax):\n",
        "  total = price*(1+tax/100)\n",
        "  print(f\"{tax}%消費税込みで\"+f\"{total}円です\")\n",
        "\n",
        "calc_price(1000,10)"
      ]
    }
  ]
}