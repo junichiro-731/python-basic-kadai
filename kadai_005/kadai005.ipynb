{
  "nbformat": 4,
  "nbformat_minor": 0,
  "metadata": {
    "colab": {
      "provenance": []
    },
    "kernelspec": {
      "name": "python3",
      "display_name": "Python 3"
    },
    "language_info": {
      "name": "python"
    }
  },
  "cells": [
    {
      "cell_type": "code",
      "execution_count": 5,
      "metadata": {
        "colab": {
          "base_uri": "https://localhost:8080/"
        },
        "id": "mmL0SbOT9iEE",
        "outputId": "0a58aa5b-6f6a-459f-920e-ce741df702f4"
      },
      "outputs": [
        {
          "output_type": "stream",
          "name": "stdout",
          "text": [
            "75.0cm2\n"
          ]
        }
      ],
      "source": [
        "upper=10\n",
        "bottom=20\n",
        "height=5\n",
        "print(str((upper+bottom)*height/2 ) + \"cm2\")"
      ]
    }
  ]
}