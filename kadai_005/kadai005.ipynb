{
  "nbformat": 4,
  "nbformat_minor": 0,
  "metadata": {
    "colab": {
      "provenance": []
    },
    "kernelspec": {
      "name": "python3",
      "display_name": "Python 3"
    },
    "language_info": {
      "name": "python"
    }
  },
  "cells": [
    {
      "cell_type": "code",
      "execution_count": 15,
      "metadata": {
        "colab": {
          "base_uri": "https://localhost:8080/"
        },
        "id": "mmL0SbOT9iEE",
        "outputId": "1b70684f-a0a7-4189-ff49-0935952b111b"
      },
      "outputs": [
        {
          "output_type": "stream",
          "name": "stdout",
          "text": [
            "75.0cm²\n"
          ]
        }
      ],
      "source": [
        "upper=10\n",
        "bottom=20\n",
        "height=5\n",
        "area=(upper+bottom)*height/2\n",
        "print(str(area ) + \"cm\"+\"\\u00B2\")"
      ]
    }
  ]
}