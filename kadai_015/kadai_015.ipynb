{
  "nbformat": 4,
  "nbformat_minor": 0,
  "metadata": {
    "colab": {
      "provenance": []
    },
    "kernelspec": {
      "name": "python3",
      "display_name": "Python 3"
    },
    "language_info": {
      "name": "python"
    }
  },
  "cells": [
    {
      "cell_type": "code",
      "execution_count": null,
      "metadata": {
        "colab": {
          "base_uri": "https://localhost:8080/"
        },
        "id": "08_OZx-HHwMB",
        "outputId": "fee09a1e-afd3-4c71-de9e-7e49c0d641ed"
      },
      "outputs": [
        {
          "output_type": "stream",
          "name": "stdout",
          "text": [
            "太郎さん，27歳です。\n"
          ]
        }
      ],
      "source": [
        "class Human:\n",
        "  def __init__(self,name,age):\n",
        "    self.name=name\n",
        "    self.age=age\n",
        "\n",
        "  def printinfo(self):\n",
        "    print(f\"{self.name}さん，\"+f\"{self.age}歳です。\")\n",
        "\n",
        "taro=Human(\"太郎\",27)\n",
        "taro.printinfo()\n"
      ]
    }
  ]
}