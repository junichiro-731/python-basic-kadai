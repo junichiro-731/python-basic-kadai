{
  "nbformat": 4,
  "nbformat_minor": 0,
  "metadata": {
    "colab": {
      "provenance": []
    },
    "kernelspec": {
      "name": "python3",
      "display_name": "Python 3"
    },
    "language_info": {
      "name": "python"
    }
  },
  "cells": [
    {
      "cell_type": "code",
      "execution_count": 8,
      "metadata": {
        "colab": {
          "base_uri": "https://localhost:8080/"
        },
        "id": "B_VNfY36L3xV",
        "outputId": "7572ec27-fb92-4154-e2b5-17ab09179745"
      },
      "outputs": [
        {
          "output_type": "stream",
          "name": "stdout",
          "text": [
            "一郎さんは，27歳の大人です。\n",
            "二郎さんは，25歳の大人です。\n",
            "三郎さんは，23歳の大人です。\n",
            "四郎さんは，19歳で大人ではありません。\n",
            "五郎さんは，17歳で大人ではありません。\n"
          ]
        }
      ],
      "source": [
        "class Human:\n",
        "  def __init__(self,name,age):\n",
        "    self.name=name\n",
        "    self.age=age\n",
        "\n",
        "  def check_adult(self):\n",
        "    if self.age >= 20:\n",
        "      print(f\"{self.name}さんは，\"+f\"{self.age}歳の大人です。\")\n",
        "    else:\n",
        "      print(f\"{self.name}さんは，\"+f\"{self.age}歳で大人ではありません。\")\n",
        "\n",
        "human1=Human(\"一郎\",27)\n",
        "human2=Human(\"二郎\",25)\n",
        "human3=Human(\"三郎\",23)\n",
        "human4=Human(\"四郎\",19)\n",
        "human5=Human(\"五郎\",17)\n",
        "\n",
        "human_list=[human1,human2,human3,human4,human5]\n",
        "\n",
        "for i in human_list:\n",
        "  Human.check_adult(i)"
      ]
    }
  ]
}