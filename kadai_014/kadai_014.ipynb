{
  "nbformat": 4,
  "nbformat_minor": 0,
  "metadata": {
    "colab": {
      "provenance": []
    },
    "kernelspec": {
      "name": "python3",
      "display_name": "Python 3"
    },
    "language_info": {
      "name": "python"
    }
  },
  "cells": [
    {
      "cell_type": "code",
      "execution_count": null,
      "metadata": {
        "colab": {
          "base_uri": "https://localhost:8080/"
        },
        "id": "82zY2B58F_-8",
        "outputId": "1ba1aa5e-a3c6-4bc9-8b00-5ed8e573ae89"
      },
      "outputs": [
        {
          "output_type": "stream",
          "name": "stdout",
          "text": [
            "330.0\n"
          ]
        }
      ],
      "source": [
        "price1=100\n",
        "price2=200\n",
        "tax=1.1\n",
        "\n",
        "def total():\n",
        "  return price1+price2\n",
        "\n",
        "print(total()*tax)"
      ]
    }
  ]
}