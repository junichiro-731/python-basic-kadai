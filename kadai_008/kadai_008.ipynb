{
  "nbformat": 4,
  "nbformat_minor": 0,
  "metadata": {
    "colab": {
      "provenance": []
    },
    "kernelspec": {
      "name": "python3",
      "display_name": "Python 3"
    },
    "language_info": {
      "name": "python"
    }
  },
  "cells": [
    {
      "cell_type": "code",
      "execution_count": 8,
      "metadata": {
        "colab": {
          "base_uri": "https://localhost:8080/"
        },
        "id": "dyi_ubDrDvP_",
        "outputId": "d2cc37a1-9bf4-492c-e27b-4302ce412e76"
      },
      "outputs": [
        {
          "output_type": "stream",
          "name": "stdout",
          "text": [
            "61\n"
          ]
        }
      ],
      "source": [
        "var=61\n",
        "if var%3==0:\n",
        "  if var%5==0:\n",
        "    print(\"FizzBuzz\")\n",
        "  else:\n",
        "    print(\"Fizz\")\n",
        "elif var%5==0:\n",
        "  if var&3==0:\n",
        "    print(\"FizzBuzz\")\n",
        "  else:\n",
        "    print(\"Buzz\")\n",
        "else:\n",
        "  print(var)"
      ]
    }
  ]
}